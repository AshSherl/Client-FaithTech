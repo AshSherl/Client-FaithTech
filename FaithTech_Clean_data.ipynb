{
  "nbformat": 4,
  "nbformat_minor": 0,
  "metadata": {
    "colab": {
      "provenance": []
    },
    "kernelspec": {
      "name": "python3",
      "display_name": "Python 3"
    },
    "language_info": {
      "name": "python"
    }
  },
  "cells": [
    {
      "cell_type": "code",
      "execution_count": null,
      "metadata": {
        "id": "FoBe5ujnsGKa"
      },
      "outputs": [],
      "source": [
        "#data upto 12 July 2025"
      ]
    },
    {
      "cell_type": "code",
      "source": [
        "import pandas as pd\n",
        "\n",
        "def clean_recruitment_data(input_path, output_path):\n",
        "    # Load CSV and clean column names\n",
        "    df = pd.read_csv(input_path)\n",
        "    df.columns = df.columns.str.strip()  # remove trailing spaces in headers\n",
        "\n",
        "    # Drop the two columns you want to remove\n",
        "    columns_to_remove = [\"Domain Expert Comment\", \"Client Remarks\"]\n",
        "    df = df.drop(columns=[col for col in columns_to_remove if col in df.columns], errors='ignore')\n",
        "\n",
        "    # Rename remaining columns for simplicity\n",
        "    df = df.rename(columns={\n",
        "        \"Timestamp\": \"Application_Timestamp\",\n",
        "        \"Applicant's Full Name\": \"Candidate_Name\",\n",
        "        \"Consultant/Talent partner name\": \"Recruiter_Name\",\n",
        "        \"Consultant/Talent partner unique Hireginie ID\": \"Recruiter_ID\",\n",
        "        \"Shortlisted for which profile\": \"Role\",\n",
        "        \"Status\": \"Candidate_Status\",\n",
        "        \"Rejection Date\": \"Rejection_Date\"\n",
        "    })\n",
        "\n",
        "    # Convert date columns\n",
        "    df[\"Application_Timestamp\"] = pd.to_datetime(df[\"Application_Timestamp\"], errors='coerce')\n",
        "    df[\"Rejection_Date\"] = pd.to_datetime(df[\"Rejection_Date\"], dayfirst=True, errors='coerce')\n",
        "\n",
        "    # Clean text columns\n",
        "    text_columns = [\"Candidate_Name\", \"Recruiter_Name\", \"Recruiter_ID\", \"Role\", \"Candidate_Status\"]\n",
        "    for col in text_columns:\n",
        "        df[col] = df[col].astype(str).str.strip()\n",
        "\n",
        "    # Save the cleaned data\n",
        "    df.to_csv(output_path, index=False)\n",
        "    print(f\" Cleaned file saved at: {output_path}\")\n",
        "\n",
        "\n",
        "# Example usage:\n",
        "input_file = \"/Status Tracker - Apps for Bharat - Sheet1.csv\"\n",
        "output_file = \"Cleaned_Recruitment_Data.csv\"\n",
        "\n",
        "clean_recruitment_data(input_file, output_file)\n"
      ],
      "metadata": {
        "colab": {
          "base_uri": "https://localhost:8080/"
        },
        "id": "6npAvZZKsRJb",
        "outputId": "57d2cec5-5de5-4799-aec1-bb86f061f027"
      },
      "execution_count": 2,
      "outputs": [
        {
          "output_type": "stream",
          "name": "stdout",
          "text": [
            " Cleaned file saved at: Cleaned_Recruitment_Data.csv\n"
          ]
        }
      ]
    }
  ]
}